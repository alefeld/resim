{
 "cells": [
  {
   "cell_type": "markdown",
   "metadata": {},
   "source": [
    "Eclipse:  0.00045 - 0.0004*dfc[\"fortification\"] (SEASON 14-21)\n",
    "0.0002 - 0.00025*dfc[\"fortification\"] (SEASON 22-24)\n",
    "\n",
    "Peanut: 0.0006 - 0.00055*dfc[\"fortification\"] (ALL SEASONS)\n",
    "\n",
    "Feedback: 0.0001 - 0.0001*dfc[\"fortification\"] (SEASON 14-16)\n",
    "0.000175 - 0.0001*dfc[\"fortification\"] (SEASON 17-24)\n",
    "\n",
    "FLICKERING: 0.02 or 0.025\n",
    "FLIICKERRRIIING: 0.055, probably a bit higher like 0.075\n",
    "\n",
    "Reverb: 0.000525 - 0.000525*dfc[\"fortification\"] (SEASON 14-16)\n",
    "0.0005 - 0.00045*dfc[\"fortification\"] (SEASON 17)\n",
    "0.0004 - 0.0003*dfc[\"fortification\"] (SEASON 18-24)\n",
    "\n",
    "Blooddrain: 0.00065 - 0.001*dfc[\"fortification\"] (SEASON 12-16)\n",
    "YUCKIES DEAL WITH LATER\n",
    "\n",
    "Coffee 1: 0.02 - 0.012*dfc[\"fortification\"] (ALL SEASONS)\n",
    "Coffee 2: 0.01875 - 0.0075*dfc[\"fortification\"] (ALL SEASONS)\n",
    "\n",
    "Flooding: 0.019 - 0.02*dfc[\"fortification\"] (SEASON 14)\n",
    "0.013 - 0.012*dfc[\"fortification\"] (SEASON 15-17)\n",
    "0.015 - 0.012*dfc[\"fortification\"] (SEASON 18)\n",
    "0.016 - 0.012*dfc[\"fortification\"] (SEASON 19-24)\n",
    "Sponge Floods on roll of 0.075 or less\n",
    "\n",
    "Salmon: 0.15 - 0.1*dfc[\"fortification\"] (SEASON 15-16)\n",
    "0.14 - 0.1*dfc[\"fortification\"] (SEASON 17-24)\n",
    "\n",
    "Glitter: 0.008 - 0.0078*dfc[\"fortification\"] (SEASON 16)\n",
    "0.0031 - 0.0001*dfc[\"fortification\"] (SEASON 17-24)\n",
    "\n",
    "Polarity: 0.035 - 0.03*dfc[\"fortification\"] (SEASON 19-24)\n",
    "\n",
    "Night: \n",
    "\n",
    "Supernova Eclipse:\n",
    "\n",
    "\n",
    "\n",
    "Blooddrain:  (SEASON 12, 13, 14, 15, 16)\n",
    "            0.00125 - 0.00125*dfc[\"fortification\"] (SEASON, 17, 18, 19)\n",
    "Siphon: Anything between Blooddrain threshold and 0.0025\n",
    "\n",
    "\n",
    "\n",
    "\n",
    "\n",
    "\n"
   ]
  },
  {
   "cell_type": "code",
   "execution_count": 1260,
   "metadata": {},
   "outputs": [],
   "source": [
    "import load\n",
    "\n",
    "df = load.data(\"weatherproc\", season=[18,19,20,21,22,23])\n",
    "\n",
    "\n",
    "df[\"fortification\"] = load.stadium_attribute(df, 'fortification', center=False)"
   ]
  },
  {
   "cell_type": "code",
   "execution_count": 1261,
   "metadata": {},
   "outputs": [],
   "source": [
    "import glob\n",
    "\n",
    "import pandas as pd\n",
    "import matplotlib.pyplot as plt\n",
    "import numpy as np\n",
    "from matplotlib.markers import CARETLEFTBASE, CARETRIGHTBASE\n",
    "from csv_dtypes import column_dtypes\n",
    "\n",
    "from sklearn.preprocessing import StandardScaler\n",
    "from sklearn.metrics import confusion_matrix\n",
    "from sklearn.metrics import classification_report\n",
    "from sklearn import svm, linear_model\n",
    "\n",
    "pd.set_option(\"display.max_rows\", 60)  # default 60\n",
    "pd.set_option(\"display.max_columns\", 20)  # default 20"
   ]
  },
  {
   "cell_type": "code",
   "execution_count": 1262,
   "metadata": {},
   "outputs": [],
   "source": [
    "dfc = df.copy()\n",
    "for exclude_mod in []:\n",
    "    dfc = dfc[~dfc[\"batter_mods\"].astype(str).str.contains(exclude_mod)]\n",
    "    dfc = dfc[~dfc[\"pitcher_mods\"].astype(str).str.contains(exclude_mod)]\n",
    "    dfc = dfc[~dfc[\"pitching_team_mods\"].astype(str).str.contains(exclude_mod)]\n",
    "    dfc = dfc[~dfc[\"batting_team_mods\"].astype(str).str.contains(exclude_mod)]\n",
    "for exclude_name in []:\n",
    "    dfc = dfc[~dfc[\"pitcher_name\"].astype(str).str.contains(exclude_name)]\n",
    "\n",
    "eclipse_events = (\"Burn\", \"NoBurn\")\n",
    "coffee_events = (\"Bean\", \"NoBean\")\n",
    "coffee2_events = (\"Refill\", \"NoRefill\")\n",
    "peanut_events = (\"Allergy\", \"NoAllergy\")\n",
    "feedback_events = (\"Swap\", \"NoSwap\")\n",
    "reverb_events = (\"Shuffle\", \"NoShuffle\")\n",
    "blooddrain_events = (\"Drain\", \"NoDrain\") \n",
    "flooding_events = (\"Swept\", \"NoSweep\")\n",
    "salmon_events = (\"Salmon\", \"NoSalmon\")\n",
    "glitter_events = (\"LootDrop\", \"NootDrop\")\n",
    "polarity_events = (\"Switch\", \"NoSwitch\")\n",
    "\n",
    "include_events = polarity_events\n",
    "\n",
    "dfc = dfc[dfc[\"event_type\"].astype(str).isin(include_events)]"
   ]
  },
  {
   "cell_type": "code",
   "execution_count": 1263,
   "metadata": {},
   "outputs": [
    {
     "name": "stdout",
     "output_type": "stream",
     "text": [
      "[[6066    0]\n",
      " [   0  132]]\n",
      "0 outliers\n",
      "1.0\n",
      "0.035\n"
     ]
    },
    {
     "data": {
      "text/plain": [
       "[(1.0, 'roll')]"
      ]
     },
     "execution_count": 1263,
     "metadata": {},
     "output_type": "execute_result"
    }
   ],
   "source": [
    "\n",
    "X = dfc[\n",
    "    [\n",
    "        \"roll\",\n",
    "        \"passed\",\n",
    "        \"fortification\"\n",
    "    ]\n",
    "].copy()\n",
    "#X = X[X[\"roll\"] > 0.001]\n",
    "y = X[\"passed\"]\n",
    "X = X.drop([\"passed\"], axis=1)\n",
    "\n",
    "pin_intercept = 0.035\n",
    "pins = [ (-0.03, \"fortification\")\n",
    "]\n",
    "\n",
    "for val, var in pins:\n",
    "    X[\"roll\"] -= X[var] * val\n",
    "    X = X.drop(var, axis=1)\n",
    "\n",
    "sc = StandardScaler(with_mean=False)\n",
    "X2 = sc.fit_transform(X)\n",
    "if pin_intercept is not None:\n",
    "    X2[:, 0] -= pin_intercept / sc.scale_[0]\n",
    "\n",
    "trainedsvm = svm.LinearSVC(\n",
    "    dual=False, max_iter=10000000, C=100000000, tol=1e-12, fit_intercept=pin_intercept is None\n",
    ").fit(X2, y)\n",
    "predictionsvm = trainedsvm.predict(X2)\n",
    "print(confusion_matrix(y, predictionsvm))\n",
    "print(confusion_matrix(y, predictionsvm)[0, 1] + confusion_matrix(y, predictionsvm)[1, 0], \"outliers\")\n",
    "print(trainedsvm.score(X2, y))\n",
    "\n",
    "coef = np.true_divide(trainedsvm.coef_, sc.scale_)\n",
    "coef_scaled = coef / coef[0, 0]\n",
    "coef_list = coef_scaled.tolist()[0]\n",
    "\n",
    "intercept = trainedsvm.intercept_  # - np.dot(coef, sc.mean_)\n",
    "intercept_scaled = -(intercept / coef[0, 0])[0] if pin_intercept is None else pin_intercept\n",
    "print(intercept_scaled)\n",
    "sorted(zip(coef_list, X.columns), key=lambda x: abs(x[0]), reverse=True)"
   ]
  },
  {
   "cell_type": "code",
   "execution_count": 1264,
   "metadata": {},
   "outputs": [
    {
     "name": "stdout",
     "output_type": "stream",
     "text": [
      "6066\n",
      "132\n"
     ]
    }
   ],
   "source": [
    "print(len(dfc[~dfc[\"passed\"]]))\n",
    "print(len(dfc[dfc[\"passed\"]]))"
   ]
  },
  {
   "cell_type": "code",
   "execution_count": 1265,
   "metadata": {},
   "outputs": [],
   "source": [
    "\n",
    "dfc[\"threshold\"] = 0.035 - 0.03*dfc[\"fortification\"]"
   ]
  },
  {
   "cell_type": "code",
   "execution_count": 1266,
   "metadata": {},
   "outputs": [
    {
     "data": {
      "text/plain": [
       "<matplotlib.legend.Legend at 0x1ff1e7cffb0>"
      ]
     },
     "execution_count": 1266,
     "metadata": {},
     "output_type": "execute_result"
    },
    {
     "data": {
      "image/png": "[encoded data removed]",
      "text/plain": [
       "<Figure size 1000x600 with 1 Axes>"
      ]
     },
     "metadata": {},
     "output_type": "display_data"
    }
   ],
   "source": [
    "x_val = \"threshold\"\n",
    "fig, ax = plt.subplots(1, figsize=(10, 6))\n",
    "ax.scatter(dfc[dfc['passed']][x_val], dfc[dfc['passed']][\"roll\"], color=\"blue\",\n",
    "           label=\"Activate\", marker=CARETLEFTBASE)\n",
    "ax.scatter(dfc[~dfc['passed']][x_val], dfc[~dfc['passed']][\"roll\"], color=\"red\",\n",
    "           label=\"NoActivate\", marker=CARETRIGHTBASE)\n",
    "ax.plot([0, 1], [0, 1])\n",
    "ax.set_xlabel(x_val)\n",
    "ax.set_ylabel('roll')\n",
    "ax.set_title(\"Weather Procs\")\n",
    "ax.set_xlim([0.0, 1.0])\n",
    "ax.set_ylim([0.0, 1.0])\n",
    "ax.legend()"
   ]
  },
  {
   "cell_type": "code",
   "execution_count": 1267,
   "metadata": {},
   "outputs": [
    {
     "data": {
      "text/html": [
       "<div>\n",
       "<style scoped>\n",
       "    .dataframe tbody tr th:only-of-type {\n",
       "        vertical-align: middle;\n",
       "    }\n",
       "\n",
       "    .dataframe tbody tr th {\n",
       "        vertical-align: top;\n",
       "    }\n",
       "\n",
       "    .dataframe thead th {\n",
       "        text-align: right;\n",
       "    }\n",
       "</style>\n",
       "<table border=\"1\" class=\"dataframe\">\n",
       "  <thead>\n",
       "    <tr style=\"text-align: right;\">\n",
       "      <th></th>\n",
       "      <th>offset</th>\n",
       "      <th>event_type</th>\n",
       "      <th>season</th>\n",
       "      <th>roll</th>\n",
       "      <th>threshold</th>\n",
       "      <th>batter_name</th>\n",
       "      <th>pitcher_name</th>\n",
       "      <th>batter_mods</th>\n",
       "      <th>pitcher_mods</th>\n",
       "      <th>batting_team_mods</th>\n",
       "      <th>pitching_team_mods</th>\n",
       "      <th>day</th>\n",
       "      <th>game_id</th>\n",
       "      <th>play_count</th>\n",
       "    </tr>\n",
       "  </thead>\n",
       "  <tbody>\n",
       "  </tbody>\n",
       "</table>\n",
       "</div>"
      ],
      "text/plain": [
       "Empty DataFrame\n",
       "Columns: [offset, event_type, season, roll, threshold, batter_name, pitcher_name, batter_mods, pitcher_mods, batting_team_mods, pitching_team_mods, day, game_id, play_count]\n",
       "Index: []"
      ]
     },
     "execution_count": 1267,
     "metadata": {},
     "output_type": "execute_result"
    },
    {
     "data": {
      "image/png": "[encoded data removed]",
      "text/plain": [
       "<Figure size 640x480 with 1 Axes>"
      ]
     },
     "metadata": {},
     "output_type": "display_data"
    }
   ],
   "source": [
    "dfc[\"offset\"] = dfc[\"roll\"] - dfc[\"threshold\"]\n",
    "outliers = dfc[(dfc[\"passed\"] & (dfc[\"offset\"] > 0)) | (~dfc[\"passed\"] & (dfc[\"offset\"] < 0))]\n",
    "\n",
    "fig, ax = plt.subplots(1)\n",
    "x_val = \"fortification\"\n",
    "y_val = \"offset\"\n",
    "ax.scatter(outliers[~outliers['passed']][x_val], outliers[~outliers['passed']][y_val], color=\"red\", label=\"Proc\")\n",
    "ax.scatter(outliers[outliers['passed']][x_val], outliers[outliers['passed']][y_val], color=\"blue\", label=\"No Proc\")\n",
    "ax.set_xlabel(x_val)\n",
    "ax.set_ylabel(y_val)\n",
    "ax.legend()\n",
    "\n",
    "table = outliers\n",
    "table[[\"offset\", \"event_type\", \"season\",\n",
    "       \"roll\", \"threshold\", \n",
    "       \"batter_name\", \"pitcher_name\", \"batter_mods\", \"pitcher_mods\",\n",
    "       \"batting_team_mods\", \"pitching_team_mods\", \"day\",  \"game_id\", \"play_count\"]].sort_values('season')\n"
   ]
  },
  {
   "cell_type": "code",
   "execution_count": 1268,
   "metadata": {},
   "outputs": [
    {
     "name": "stdout",
     "output_type": "stream",
     "text": [
      "0.0319643007212315\n",
      "0.0162751887574523\n"
     ]
    }
   ],
   "source": [
    "print(dfc[dfc[\"passed\"]][\"roll\"].max())\n",
    "print(dfc[~dfc[\"passed\"]][\"roll\"].min())"
   ]
  }
 ],
 "metadata": {
  "kernelspec": {
   "display_name": "Python 3",
   "language": "python",
   "name": "python3"
  },
  "language_info": {
   "codemirror_mode": {
    "name": "ipython",
    "version": 3
   },
   "file_extension": ".py",
   "mimetype": "text/x-python",
   "name": "python",
   "nbconvert_exporter": "python",
   "pygments_lexer": "ipython3",
   "version": "3.12.1"
  }
 },
 "nbformat": 4,
 "nbformat_minor": 1
}
