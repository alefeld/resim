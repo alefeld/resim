{
 "cells": [
  {
   "cell_type": "markdown",
   "metadata": {},
   "source": [
    "Mild: 0.0005 + 0.004 * dfc[\"ballpark_mysticism\"] (ALL SEASONS)\n",
    "\n",
    "Haunted: 0.2 (Season 12) More to come, likely a logging error\n",
    "\n",
    "Electric: 0.05 + 0.1 * dfc[\"ballpark_mysticism\"] (SEASON 12-15)\n",
    "          0.0325 + 0.1 * dfc[\"ballpark_mysticism\"] or 0.033 + 0.1 * dfc[\"ballpark_mysticism\"] (SEASON 16)\n",
    "          0.025 + 0.1*dfc[\"ballpark_mysticism\"] (SEASON 17)\n",
    "          0.02085 + 0.1*dfc[\"ballpark_mysticism\"] (SEASON 18)\n",
    "\n",
    "Peanut Mister: 0.0005 (ALL SEASONS. NOTE: IF NO ELIGIBLE TARGETS THEN NO TARGET ROLL)\n",
    "\n",
    "Smithy: 0.0004 (ALL SEASONS)\n",
    "\n",
    "Taste the Infinite (Pitcher): 0.001 (ALL SEASONS)\n",
    "\n",
    "Birds Ambush: 0.0255 (ALL SEASONS)\n",
    "\n",
    "Charm: 0.015 + 0.02*dfc[\"ballpark_mysticism\"] (SEASON 12-17)  \n",
    "       0.014 + 0.006*dfc[\"ballpark_mysticism\"] (SEASON 18)\n",
    "\n",
    "Echo Chamber: 0.0055 (SEASON 14-17)\n",
    "              0.013 (SEASON 18)\n",
    "              Between 0.006 & 0.012 (SEASON 19)\n",
    "\n",
    "Base Intincts: 0.2 (ALL SEASONS)\n",
    "\n",
    "\n",
    "Debt_Three: 0.0095 (ALL SEASONS FOR ACTUAL REAL DEBT)\n",
    "            0.015 (ALL SEASONS BUT FOR COPIED DEBT)\n",
    "            (THIS IS LIKELY CAUSED BY A STAT BUT IT'S HARD TO TELL WITH LIMITED DATA AND CHORBY SHELLING SOUL WITH FLOORED STATS)\n",
    "\n",
    "Psychic (Pitcher): 0.075ish\n",
    "Psychic (Batter): 0.078 + 0.0375*dfc[\"ballpark_mysticism\"]"
   ]
  },
  {
   "cell_type": "code",
   "execution_count": 1,
   "metadata": {},
   "outputs": [],
   "source": [
    "import glob\n",
    "\n",
    "import pandas as pd\n",
    "import matplotlib.pyplot as plt\n",
    "import numpy as np\n",
    "from matplotlib.markers import CARETLEFTBASE, CARETRIGHTBASE\n",
    "from csv_dtypes import column_dtypes\n",
    "\n",
    "from sklearn.preprocessing import StandardScaler\n",
    "from sklearn.metrics import confusion_matrix\n",
    "from sklearn.metrics import classification_report\n",
    "from sklearn import svm, linear_model\n",
    "\n",
    "import load\n",
    "\n",
    "pd.set_option(\"display.max_rows\", 60)  # default 60\n",
    "pd.set_option(\"display.max_columns\", 20)  # default 20"
   ]
  },
  {
   "cell_type": "code",
   "execution_count": 2,
   "metadata": {
    "scrolled": true
   },
   "outputs": [
    {
     "data": {
      "text/plain": [
       "932608"
      ]
     },
     "execution_count": 2,
     "metadata": {},
     "output_type": "execute_result"
    }
   ],
   "source": [
    "seasons = [14,15,16,17,18]\n",
    "df = load.data(\"modproc\", season=seasons)\n",
    "\n",
    "len(df)"
   ]
  },
  {
   "cell_type": "code",
   "execution_count": 31,
   "metadata": {},
   "outputs": [],
   "source": [
    "df[\"ruth_vibes\"] = load.player_attribute(\n",
    "    # These values are mandatory: the dataframe, the player role, and the attribute\n",
    "    df, 'pitcher', 'ruthlessness',\n",
    "    # These are all optional, and the default values are as they appear here\n",
    "    vibes=True, mods=True, items=True, broken_items=True\n",
    ")\n",
    "df[\"cold_vibes\"] = load.player_attribute(df, 'pitcher', 'coldness', vibes=True, mods=True, items=True, broken_items=True)\n",
    "df[\"opw_vibes\"] = load.player_attribute(df, 'pitcher', 'overpowerment', vibes=True, mods=True, items=True, broken_items=True)\n",
    "df[\"shakes_vibes\"] = load.player_attribute(df, 'pitcher', 'shakespeareanism', vibes=True, mods=True, items=True, broken_items=True)\n",
    "df[\"supp_vibes\"] = load.player_attribute(df, 'pitcher', 'suppression', vibes=True, mods=True, items=True, broken_items=True)\n",
    "df[\"unthwack_vibes\"] = load.player_attribute(df, 'pitcher', 'unthwackability', vibes=True, mods=True, items=True, broken_items=True)\n",
    "\n",
    "df[\"forwardness\"] = load.stadium_attribute(df, 'forwardness', center=False)\n",
    "df[\"mysticism\"] = load.stadium_attribute(df, 'mysticism', center=False)\n",
    "df[\"fortification\"] = load.stadium_attribute(df, 'fortification', center=False)\n",
    "df[\"obtuseness\"] = load.stadium_attribute(df, 'obtuseness', center=False)\n",
    "df[\"grandiosity\"] = load.stadium_attribute(df, 'grandiosity', center=False)\n",
    "df[\"ominousness\"] = load.stadium_attribute(df, 'ominousness', center=False)\n",
    "df[\"inconvenience\"] = load.stadium_attribute(df, 'inconvenience', center=False)\n",
    "df[\"viscosity\"] = load.stadium_attribute(df, 'viscosity', center=False)\n",
    "df[\"elongation\"] = load.stadium_attribute(df, 'elongation', center=False)\n",
    "df[\"filthiness\"] = load.stadium_attribute(df, 'filthiness', center=False)"
   ]
  },
  {
   "cell_type": "code",
   "execution_count": 32,
   "metadata": {},
   "outputs": [
    {
     "data": {
      "text/plain": [
       "932608"
      ]
     },
     "execution_count": 32,
     "metadata": {},
     "output_type": "execute_result"
    }
   ],
   "source": [
    "dfc = df.copy()\n",
    "for exclude_mod in []:\n",
    "    dfc = dfc[~dfc[\"batter_mods\"].astype(str).str.contains(exclude_mod)]\n",
    "    dfc = dfc[~dfc[\"pitcher_mods\"].astype(str).str.contains(exclude_mod)]\n",
    "    dfc = dfc[~dfc[\"pitching_team_mods\"].astype(str).str.contains(exclude_mod)]\n",
    "    dfc = dfc[~dfc[\"batting_team_mods\"].astype(str).str.contains(exclude_mod)]\n",
    "    dfc = dfc[~dfc[\"fielder_mods\"].astype(str).str.contains(exclude_mod)]\n",
    "\n",
    "len(dfc)"
   ]
  },
  {
   "cell_type": "code",
   "execution_count": 33,
   "metadata": {},
   "outputs": [
    {
     "data": {
      "text/plain": [
       "4613"
      ]
     },
     "execution_count": 33,
     "metadata": {},
     "output_type": "execute_result"
    }
   ],
   "source": [
    "mister_events = (\"cure\", \"NoCure\")\n",
    "mild_events = (\"Mild\", \"NoMild\")\n",
    "birds_ambush_events = (\"Ambushed\", \"NoBush\")\n",
    "echo_chamber_events = (\"Copy\", \"nocopy\")\n",
    "taste_infinite_events = (\"shelled2\", \"no shell2\")\n",
    "electric_events = (\"Zap\", \"NoZap\")\n",
    "base_instinct_events = (\"Walk\", \"Balk\", \"Second\", \"Third\")\n",
    "smithy_events = (\"Fix\", \"NoFix\")\n",
    "haunted_events = (\"NoHaunt\", \"YesHaunt\")\n",
    "grind_rail_events = (\"Grind\", \"NoGrind\")\n",
    "taste_infinite_batter_events = (\"shelled1\", \"no shell1\")\n",
    "debt_events = (\"Bonk\", \"No Bonk\")\n",
    "big_buckets_events = (\"Bucket\", \"NoBucket\")\n",
    "acidic_events = (\"Acidic Pitch\", \"Not Acidic Pitch\")\n",
    "double_strike_events = (\"Double Strike\", \"Single Strike\")\n",
    "hotel_motel_events = (\"Hotel\", \"Notel\")\n",
    "\n",
    "include_events = hotel_motel_events\n",
    "\n",
    "dfc = dfc[dfc[\"event_type\"].astype(str).isin(include_events)]\n",
    "\n",
    "len(dfc)"
   ]
  },
  {
   "cell_type": "code",
   "execution_count": 58,
   "metadata": {},
   "outputs": [
    {
     "name": "stdout",
     "output_type": "stream",
     "text": [
      "[[4566    3]\n",
      " [   2   42]]\n",
      "5 outliers\n",
      "0.9989161066551051\n",
      "0.01\n"
     ]
    },
    {
     "data": {
      "text/plain": [
       "[(1.0, 'roll'), (6.136162484415919e-05, 'season')]"
      ]
     },
     "execution_count": 58,
     "metadata": {},
     "output_type": "execute_result"
    }
   ],
   "source": [
    "X = dfc[\n",
    "    [\n",
    "        \"roll\",\n",
    "        \"passed\",\n",
    "        #\"mysticism\",\n",
    "        #\"grandiosity\",\n",
    "        #\"viscosity\",\n",
    "        #\"unthwack_vibes\",\n",
    "        #\"ruth_vibes\",\n",
    "        #\"cold_vibes\",\n",
    "        #\"opw_vibes\",\n",
    "        #\"supp_vibes\",\n",
    "        #\"shakes_vibes\",\n",
    "\n",
    "    ]\n",
    "].copy()\n",
    "#X = X[X[\"pitcher_musclitude\"] > 0.07]\n",
    "\n",
    "y = X[\"passed\"]\n",
    "X = X.drop([\"passed\"], axis=1)\n",
    "\n",
    "pin_intercept = 0.01\n",
    "pins = [\n",
    "    #(-0.0025, \"mysticism\"),\n",
    "]\n",
    "for val, var in pins:\n",
    "    X[\"roll\"] -= X[var] * val\n",
    "    X = X.drop(var, axis=1)\n",
    "\n",
    "sc = StandardScaler(with_mean=False)\n",
    "X2 = sc.fit_transform(X)\n",
    "if pin_intercept is not None:\n",
    "    X2[:, 0] -= pin_intercept / sc.scale_[0]\n",
    "\n",
    "trainedsvm = svm.LinearSVC(\n",
    "    dual=False, max_iter=10000000, C=100000000, tol=1e-12, fit_intercept=pin_intercept is None\n",
    ").fit(X2, y)\n",
    "predictionsvm = trainedsvm.predict(X2)\n",
    "print(confusion_matrix(y, predictionsvm))\n",
    "print(confusion_matrix(y, predictionsvm)[0, 1] + confusion_matrix(y, predictionsvm)[1, 0], \"outliers\")\n",
    "print(trainedsvm.score(X2, y))\n",
    "\n",
    "coef = np.true_divide(trainedsvm.coef_, sc.scale_)\n",
    "coef_scaled = coef / coef[0, 0]\n",
    "coef_list = coef_scaled.tolist()[0]\n",
    "\n",
    "intercept = trainedsvm.intercept_  # - np.dot(coef, sc.mean_)\n",
    "intercept_scaled = -(intercept / coef[0, 0])[0] if pin_intercept is None else pin_intercept\n",
    "print(intercept_scaled)\n",
    "sorted(zip(coef_list, X.columns), key=lambda x: abs(x[0]), reverse=True)"
   ]
  },
  {
   "cell_type": "code",
   "execution_count": 35,
   "metadata": {},
   "outputs": [
    {
     "name": "stdout",
     "output_type": "stream",
     "text": [
      "4569\n",
      "44\n"
     ]
    }
   ],
   "source": [
    "print(len(dfc[~dfc[\"passed\"]]))\n",
    "print(len(dfc[dfc[\"passed\"]]))"
   ]
  },
  {
   "cell_type": "code",
   "execution_count": 49,
   "metadata": {},
   "outputs": [],
   "source": [
    "dfc[\"threshold\"] = 0.01"
   ]
  },
  {
   "cell_type": "code",
   "execution_count": 28,
   "metadata": {},
   "outputs": [
    {
     "data": {
      "text/plain": [
       "<matplotlib.legend.Legend at 0x1735aacee50>"
      ]
     },
     "execution_count": 28,
     "metadata": {},
     "output_type": "execute_result"
    },
    {
     "data": {
      "image/png": "[encoded data removed]",
      "text/plain": [
       "<Figure size 1000x600 with 1 Axes>"
      ]
     },
     "metadata": {},
     "output_type": "display_data"
    }
   ],
   "source": [
    "x_val = \"threshold\"\n",
    "fig, ax = plt.subplots(1, figsize=(10, 6))\n",
    "ax.scatter(dfc[dfc['passed']][x_val], dfc[dfc['passed']][\"roll\"], color=\"blue\",\n",
    "           label=\"Activate\", marker=CARETLEFTBASE)\n",
    "ax.scatter(dfc[~dfc['passed']][x_val], dfc[~dfc['passed']][\"roll\"], color=\"red\",\n",
    "           label=\"NoActivate\", marker=CARETRIGHTBASE)\n",
    "ax.plot([0, 1], [0, 1])\n",
    "ax.set_xlabel(x_val)\n",
    "ax.set_ylabel('roll')\n",
    "ax.set_title(\"Weather Procs\")\n",
    "ax.set_xlim([0.001, 0.1])\n",
    "ax.set_ylim([0.0, 0.1])\n",
    "ax.legend()"
   ]
  },
  {
   "cell_type": "code",
   "execution_count": 57,
   "metadata": {
    "scrolled": false
   },
   "outputs": [
    {
     "data": {
      "text/html": [
       "<div>\n",
       "<style scoped>\n",
       "    .dataframe tbody tr th:only-of-type {\n",
       "        vertical-align: middle;\n",
       "    }\n",
       "\n",
       "    .dataframe tbody tr th {\n",
       "        vertical-align: top;\n",
       "    }\n",
       "\n",
       "    .dataframe thead th {\n",
       "        text-align: right;\n",
       "    }\n",
       "</style>\n",
       "<table border=\"1\" class=\"dataframe\">\n",
       "  <thead>\n",
       "    <tr style=\"text-align: right;\">\n",
       "      <th></th>\n",
       "      <th>offset</th>\n",
       "      <th>event_type</th>\n",
       "      <th>season</th>\n",
       "      <th>roll</th>\n",
       "      <th>threshold</th>\n",
       "      <th>mysticism</th>\n",
       "      <th>batter_name</th>\n",
       "      <th>pitcher_name</th>\n",
       "      <th>batter_mods</th>\n",
       "      <th>pitcher_mods</th>\n",
       "      <th>season</th>\n",
       "      <th>day</th>\n",
       "      <th>game_id</th>\n",
       "      <th>play_count</th>\n",
       "    </tr>\n",
       "  </thead>\n",
       "  <tbody>\n",
       "    <tr>\n",
       "      <th>666076</th>\n",
       "      <td>-0.001542</td>\n",
       "      <td>Notel</td>\n",
       "      <td>18</td>\n",
       "      <td>0.008458</td>\n",
       "      <td>0.01</td>\n",
       "      <td>0.481923</td>\n",
       "      <td>Null Player</td>\n",
       "      <td>Uncle Plasma</td>\n",
       "      <td></td>\n",
       "      <td>EGO1;HARD_BOILED</td>\n",
       "      <td>18</td>\n",
       "      <td>16</td>\n",
       "      <td>956b286d-48cd-4b01-9699-651b305306ac</td>\n",
       "      <td>161</td>\n",
       "    </tr>\n",
       "    <tr>\n",
       "      <th>629458</th>\n",
       "      <td>-0.001177</td>\n",
       "      <td>Notel</td>\n",
       "      <td>18</td>\n",
       "      <td>0.008823</td>\n",
       "      <td>0.01</td>\n",
       "      <td>0.377057</td>\n",
       "      <td>Null Player</td>\n",
       "      <td>Uncle Plasma</td>\n",
       "      <td></td>\n",
       "      <td>EGO1;HARD_BOILED</td>\n",
       "      <td>18</td>\n",
       "      <td>4</td>\n",
       "      <td>80ab0a82-05bd-47ee-aa1b-67bd626c3ece</td>\n",
       "      <td>278</td>\n",
       "    </tr>\n",
       "    <tr>\n",
       "      <th>670406</th>\n",
       "      <td>-0.001105</td>\n",
       "      <td>Notel</td>\n",
       "      <td>18</td>\n",
       "      <td>0.008895</td>\n",
       "      <td>0.01</td>\n",
       "      <td>0.590713</td>\n",
       "      <td>Null Player</td>\n",
       "      <td>Penelope Mathews</td>\n",
       "      <td></td>\n",
       "      <td>FRIEND_OF_CROWS</td>\n",
       "      <td>18</td>\n",
       "      <td>18</td>\n",
       "      <td>f050925c-3f5e-494c-a7dc-c55ed98d2362</td>\n",
       "      <td>29</td>\n",
       "    </tr>\n",
       "    <tr>\n",
       "      <th>667537</th>\n",
       "      <td>-0.001084</td>\n",
       "      <td>Notel</td>\n",
       "      <td>18</td>\n",
       "      <td>0.008916</td>\n",
       "      <td>0.01</td>\n",
       "      <td>0.438299</td>\n",
       "      <td>Null Player</td>\n",
       "      <td>Michelle Sportsman</td>\n",
       "      <td></td>\n",
       "      <td>CAREFUL</td>\n",
       "      <td>18</td>\n",
       "      <td>17</td>\n",
       "      <td>0ec8e756-8afa-4182-82de-364e6f355688</td>\n",
       "      <td>2</td>\n",
       "    </tr>\n",
       "    <tr>\n",
       "      <th>692987</th>\n",
       "      <td>-0.000613</td>\n",
       "      <td>Notel</td>\n",
       "      <td>18</td>\n",
       "      <td>0.009387</td>\n",
       "      <td>0.01</td>\n",
       "      <td>0.588595</td>\n",
       "      <td>Null Player</td>\n",
       "      <td>Cravel Gesundheit</td>\n",
       "      <td></td>\n",
       "      <td></td>\n",
       "      <td>18</td>\n",
       "      <td>25</td>\n",
       "      <td>e77a29f4-658b-479b-9dbe-e604f5b64b15</td>\n",
       "      <td>3</td>\n",
       "    </tr>\n",
       "    <tr>\n",
       "      <th>621040</th>\n",
       "      <td>-0.000338</td>\n",
       "      <td>Notel</td>\n",
       "      <td>18</td>\n",
       "      <td>0.009662</td>\n",
       "      <td>0.01</td>\n",
       "      <td>0.506594</td>\n",
       "      <td>Null Player</td>\n",
       "      <td>Jayden Wright</td>\n",
       "      <td></td>\n",
       "      <td></td>\n",
       "      <td>18</td>\n",
       "      <td>2</td>\n",
       "      <td>ab2b13b9-2ec5-48e5-9b65-5e66bb26f59f</td>\n",
       "      <td>3</td>\n",
       "    </tr>\n",
       "  </tbody>\n",
       "</table>\n",
       "</div>"
      ],
      "text/plain": [
       "          offset event_type  season      roll  threshold  mysticism  \\\n",
       "666076 -0.001542      Notel      18  0.008458       0.01   0.481923   \n",
       "629458 -0.001177      Notel      18  0.008823       0.01   0.377057   \n",
       "670406 -0.001105      Notel      18  0.008895       0.01   0.590713   \n",
       "667537 -0.001084      Notel      18  0.008916       0.01   0.438299   \n",
       "692987 -0.000613      Notel      18  0.009387       0.01   0.588595   \n",
       "621040 -0.000338      Notel      18  0.009662       0.01   0.506594   \n",
       "\n",
       "        batter_name        pitcher_name batter_mods      pitcher_mods  season  \\\n",
       "666076  Null Player        Uncle Plasma              EGO1;HARD_BOILED      18   \n",
       "629458  Null Player        Uncle Plasma              EGO1;HARD_BOILED      18   \n",
       "670406  Null Player    Penelope Mathews               FRIEND_OF_CROWS      18   \n",
       "667537  Null Player  Michelle Sportsman                       CAREFUL      18   \n",
       "692987  Null Player   Cravel Gesundheit                                    18   \n",
       "621040  Null Player       Jayden Wright                                    18   \n",
       "\n",
       "        day                               game_id  play_count  \n",
       "666076   16  956b286d-48cd-4b01-9699-651b305306ac         161  \n",
       "629458    4  80ab0a82-05bd-47ee-aa1b-67bd626c3ece         278  \n",
       "670406   18  f050925c-3f5e-494c-a7dc-c55ed98d2362          29  \n",
       "667537   17  0ec8e756-8afa-4182-82de-364e6f355688           2  \n",
       "692987   25  e77a29f4-658b-479b-9dbe-e604f5b64b15           3  \n",
       "621040    2  ab2b13b9-2ec5-48e5-9b65-5e66bb26f59f           3  "
      ]
     },
     "execution_count": 57,
     "metadata": {},
     "output_type": "execute_result"
    },
    {
     "data": {
      "image/png": "[encoded data removed]",
      "text/plain": [
       "<Figure size 640x480 with 1 Axes>"
      ]
     },
     "metadata": {},
     "output_type": "display_data"
    }
   ],
   "source": [
    "dfc[\"offset\"] = dfc[\"roll\"] - dfc[\"threshold\"]\n",
    "outliers = dfc[(dfc[\"passed\"] & (dfc[\"offset\"] > 0)) | (~dfc[\"passed\"] & (dfc[\"offset\"] < 0))]\n",
    "#outliers = outliers[outliers[\"pitcher_musclitude\"] > 0.07]\n",
    "fig, ax = plt.subplots(1)\n",
    "x_val = \"season\"\n",
    "y_val = \"offset\"\n",
    "ax.scatter(outliers[~outliers['passed']][x_val], outliers[~outliers['passed']][y_val], color=\"red\", label=\"Proc\")\n",
    "ax.scatter(outliers[outliers['passed']][x_val], outliers[outliers['passed']][y_val], color=\"blue\", label=\"No Proc\")\n",
    "ax.set_xlabel(x_val)\n",
    "ax.set_ylabel(y_val)\n",
    "ax.legend()\n",
    "\n",
    "table = outliers\n",
    "table[[\"offset\", \"event_type\", \"season\",\n",
    "       \"roll\", \"threshold\", \"mysticism\",\n",
    "       \"batter_name\", \"pitcher_name\", \"batter_mods\", \"pitcher_mods\",\n",
    "       \"season\", \"day\",  \"game_id\", \"play_count\"]].sort_values('offset')\n"
   ]
  },
  {
   "cell_type": "code",
   "execution_count": 62,
   "metadata": {},
   "outputs": [
    {
     "name": "stdout",
     "output_type": "stream",
     "text": [
      "nan\n",
      "nan\n"
     ]
    }
   ],
   "source": [
    "print(dfc[dfc[\"passed\"] & (dfc[\"season\"] > 18)][\"roll\"].max())\n",
    "print(dfc[~dfc[\"passed\"] & (dfc[\"season\"] > 18)][\"roll\"].min())"
   ]
  },
  {
   "cell_type": "code",
   "execution_count": null,
   "metadata": {},
   "outputs": [],
   "source": []
  }
 ],
 "metadata": {
  "kernelspec": {
   "display_name": "Python 3 (ipykernel)",
   "language": "python",
   "name": "python3"
  },
  "language_info": {
   "codemirror_mode": {
    "name": "ipython",
    "version": 3
   },
   "file_extension": ".py",
   "mimetype": "text/x-python",
   "name": "python",
   "nbconvert_exporter": "python",
   "pygments_lexer": "ipython3",
   "version": "3.11.1"
  },
  "vscode": {
   "interpreter": {
    "hash": "893958406e8c6944eb13075791d2ee6bb1de84c8ef46ad5e9bf9040b431b0bd8"
   }
  }
 },
 "nbformat": 4,
 "nbformat_minor": 1
}
