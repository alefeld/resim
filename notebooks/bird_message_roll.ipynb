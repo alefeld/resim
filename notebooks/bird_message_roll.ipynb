{
 "cells": [
  {
   "cell_type": "code",
   "execution_count": 53,
   "metadata": {},
   "outputs": [
    {
     "data": {
      "text/plain": [
       "109488"
      ]
     },
     "execution_count": 53,
     "metadata": {},
     "output_type": "execute_result"
    }
   ],
   "source": [
    "import glob\n",
    "\n",
    "import pandas as pd\n",
    "import matplotlib.pyplot as plt\n",
    "import numpy as np\n",
    "from matplotlib.markers import CARETLEFTBASE, CARETRIGHTBASE\n",
    "\n",
    "import load\n",
    "\n",
    "df = load.data(\"bird-message\", season=[11, 12, 13, 14, 15, 16, 17, 18, 19, 20, 21, 22, 23])\n",
    "\n",
    "df[\"fortification\"] = load.stadium_attribute(df, 'fortification', center=True)\n",
    "len(df)"
   ]
  },
  {
   "cell_type": "markdown",
   "metadata": {},
   "source": [
    "S12-S17, S19-S24:\n",
    "\n",
    "threshold = 0.0125 - (centered fortification)\n",
    "\n",
    "S18:\n",
    "\n",
    "threshold = 0.015 - (centered fortification)"
   ]
  },
  {
   "cell_type": "code",
   "execution_count": 58,
   "metadata": {},
   "outputs": [],
   "source": [
    "dfc = df.copy()\n",
    "# dfc[\"ballpark_fortification\"] = dfc[\"ballpark_fortification\"] - 0.5\n",
    "dfc = dfc[dfc[\"roll\"] < 0.07]\n",
    "dfc = dfc[dfc[\"season\"] == 17]\n",
    "# dfc = dfc[(dfc[\"season\"] < 17) | (dfc[\"season\"] > 18)]\n"
   ]
  },
  {
   "cell_type": "code",
   "execution_count": 64,
   "metadata": {},
   "outputs": [],
   "source": [
    "X = dfc[\n",
    "    [\n",
    "        \"roll\",\n",
    "        \"passed\",\n",
    "        \"fortification\",\n",
    "    ]\n",
    "].copy()\n",
    "y = X[\"passed\"]\n",
    "X = X.drop(\"passed\", axis=1)\n",
    "\n",
    "pin_intercept = 0.015\n",
    "pins = [\n",
    "    (-0.02, \"fortification\"),\n",
    "]\n",
    "\n",
    "for val, var in pins:\n",
    "    X[\"roll\"] -= X[var] * val\n",
    "    X = X.drop(var, axis=1)\n"
   ]
  },
  {
   "cell_type": "code",
   "execution_count": 65,
   "metadata": {},
   "outputs": [
    {
     "name": "stdout",
     "output_type": "stream",
     "text": [
      "[[606   0]\n",
      " [  0 203]]\n",
      "              precision    recall  f1-score   support\n",
      "\n",
      "       False       1.00      1.00      1.00       606\n",
      "        True       1.00      1.00      1.00       203\n",
      "\n",
      "    accuracy                           1.00       809\n",
      "   macro avg       1.00      1.00      1.00       809\n",
      "weighted avg       1.00      1.00      1.00       809\n",
      "\n"
     ]
    }
   ],
   "source": [
    "from sklearn.preprocessing import StandardScaler\n",
    "from sklearn.metrics import confusion_matrix\n",
    "from sklearn.metrics import classification_report\n",
    "from sklearn import svm, linear_model\n",
    "\n",
    "sc = StandardScaler(with_mean=False)\n",
    "X2 = sc.fit_transform(X)\n",
    "if pin_intercept is not None:\n",
    "    X2[:, 0] -= pin_intercept / sc.scale_[0]\n",
    "\n",
    "trainedsvm = svm.LinearSVC(dual=False, max_iter=10000000, C=100000000, tol=1e-15, fit_intercept=pin_intercept is None).fit(\n",
    "    X2, y\n",
    ")\n",
    "predictionsvm = trainedsvm.predict(X2)\n",
    "\n",
    "print(confusion_matrix(y, predictionsvm))\n",
    "print(classification_report(y, predictionsvm))"
   ]
  },
  {
   "cell_type": "code",
   "execution_count": 66,
   "metadata": {},
   "outputs": [
    {
     "name": "stdout",
     "output_type": "stream",
     "text": [
      "intercept: 0.015\n",
      "(-0.02, 'fortification')\n"
     ]
    }
   ],
   "source": [
    "coef = np.true_divide(trainedsvm.coef_, sc.scale_)\n",
    "coef_scaled = coef / coef[0, 0]\n",
    "coef_list = coef_scaled.tolist()[0]\n",
    "\n",
    "intercept = trainedsvm.intercept_ #- np.dot(coef, sc.mean_)\n",
    "intercept_scaled = pin_intercept if pin_intercept is not None else -(intercept / coef[0, 0])[0]\n",
    "\n",
    "dfc[\"threshold\"] = intercept_scaled\n",
    "print(\"intercept:\", intercept_scaled)\n",
    "for pair in pins + list(zip(-np.array(coef_list), X.columns)):\n",
    "    if pair[1] != \"roll\":\n",
    "        print(pair)\n",
    "        dfc[\"threshold\"] += pair[0] * dfc[pair[1]]\n"
   ]
  },
  {
   "cell_type": "code",
   "execution_count": 674,
   "metadata": {},
   "outputs": [
    {
     "data": {
      "text/html": [
       "<div>\n",
       "<style scoped>\n",
       "    .dataframe tbody tr th:only-of-type {\n",
       "        vertical-align: middle;\n",
       "    }\n",
       "\n",
       "    .dataframe tbody tr th {\n",
       "        vertical-align: top;\n",
       "    }\n",
       "\n",
       "    .dataframe thead th {\n",
       "        text-align: right;\n",
       "    }\n",
       "</style>\n",
       "<table border=\"1\" class=\"dataframe\">\n",
       "  <thead>\n",
       "    <tr style=\"text-align: right;\">\n",
       "      <th></th>\n",
       "      <th>offset</th>\n",
       "      <th>roll</th>\n",
       "      <th>fortification</th>\n",
       "      <th>threshold</th>\n",
       "      <th>passed</th>\n",
       "      <th>season</th>\n",
       "      <th>day</th>\n",
       "      <th>game_id</th>\n",
       "      <th>play_count</th>\n",
       "    </tr>\n",
       "  </thead>\n",
       "  <tbody>\n",
       "    <tr>\n",
       "      <th>22501</th>\n",
       "      <td>-0.000314</td>\n",
       "      <td>0.012186</td>\n",
       "      <td>0.0</td>\n",
       "      <td>0.0125</td>\n",
       "      <td>False</td>\n",
       "      <td>12</td>\n",
       "      <td>60</td>\n",
       "      <td>64f43805-1317-467e-b92a-9e7579b2e275</td>\n",
       "      <td>362</td>\n",
       "    </tr>\n",
       "    <tr>\n",
       "      <th>22301</th>\n",
       "      <td>-0.000275</td>\n",
       "      <td>0.012225</td>\n",
       "      <td>0.0</td>\n",
       "      <td>0.0125</td>\n",
       "      <td>False</td>\n",
       "      <td>12</td>\n",
       "      <td>60</td>\n",
       "      <td>64f43805-1317-467e-b92a-9e7579b2e275</td>\n",
       "      <td>88</td>\n",
       "    </tr>\n",
       "  </tbody>\n",
       "</table>\n",
       "</div>"
      ],
      "text/plain": [
       "         offset      roll  fortification  threshold  passed  season  day  \\\n",
       "22501 -0.000314  0.012186            0.0     0.0125   False      12   60   \n",
       "22301 -0.000275  0.012225            0.0     0.0125   False      12   60   \n",
       "\n",
       "                                    game_id  play_count  \n",
       "22501  64f43805-1317-467e-b92a-9e7579b2e275         362  \n",
       "22301  64f43805-1317-467e-b92a-9e7579b2e275          88  "
      ]
     },
     "execution_count": 674,
     "metadata": {},
     "output_type": "execute_result"
    },
    {
     "data": {
      "image/png": "[encoded data removed]",
      "text/plain": [
       "<Figure size 640x480 with 1 Axes>"
      ]
     },
     "metadata": {},
     "output_type": "display_data"
    }
   ],
   "source": [
    "dfc[\"offset\"] = dfc[\"roll\"] - dfc[\"threshold\"]\n",
    "outliers = dfc[(dfc[\"passed\"] & (dfc[\"offset\"] >= 0)) | (~dfc[\"passed\"] & (dfc[\"offset\"] <= 0))]\n",
    "\n",
    "fig, ax = plt.subplots(1)\n",
    "x_val = \"threshold\"\n",
    "y_val = \"offset\"\n",
    "ax.scatter(outliers[~outliers['passed']][x_val], outliers[~outliers['passed']][y_val], color=\"red\", label=\"Circle\")\n",
    "ax.scatter(outliers[outliers['passed']][x_val], outliers[outliers['passed']][y_val], color=\"blue\", label=\"\")\n",
    "ax.set_xlabel(x_val)\n",
    "ax.set_ylabel(y_val)\n",
    "ax.legend()\n",
    "\n",
    "table = outliers\n",
    "table[[\"offset\", \"roll\", \"fortification\", \"threshold\", \"passed\",\n",
    "       \"season\", \"day\",  \"game_id\", \"play_count\"]].sort_values('offset')\n",
    "\n",
    "# table[\"pitcher_file\"]"
   ]
  }
 ],
 "metadata": {
  "kernelspec": {
   "display_name": "Python 3",
   "language": "python",
   "name": "python3"
  },
  "language_info": {
   "codemirror_mode": {
    "name": "ipython",
    "version": 3
   },
   "file_extension": ".py",
   "mimetype": "text/x-python",
   "name": "python",
   "nbconvert_exporter": "python",
   "pygments_lexer": "ipython3",
   "version": "3.12.1"
  },
  "orig_nbformat": 4
 },
 "nbformat": 4,
 "nbformat_minor": 2
}
